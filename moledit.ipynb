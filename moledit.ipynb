{
 "cells": [
  {
   "cell_type": "code",
   "execution_count": 1,
   "metadata": {},
   "outputs": [],
   "source": [
    "import os\n",
    "os.environ[\"XLA_PYTHON_CLIENT_PREALLOCATE\"] = \"False\"\n",
    "import sys \n",
    "sys.path.append(\".\")\n",
    "import pickle as pkl \n",
    "import numpy as np\n",
    "from tqdm import tqdm"
   ]
  },
  {
   "cell_type": "markdown",
   "metadata": {},
   "source": [
    "## Inference"
   ]
  },
  {
   "cell_type": "markdown",
   "metadata": {},
   "source": [
    "### Preparation (nets, constants and params)"
   ]
  },
  {
   "cell_type": "code",
   "execution_count": 2,
   "metadata": {},
   "outputs": [],
   "source": [
    "import jax \n",
    "import jax.numpy as jnp\n",
    "from functools import partial\n",
    "\n",
    "#### nets\n",
    "from cybertron.readout.naive_gfn import NaiveGraphFieldNetwork\n",
    "from jax.sharding import PositionalSharding"
   ]
  },
  {
   "cell_type": "code",
   "execution_count": 3,
   "metadata": {},
   "outputs": [
    {
     "name": "stdout",
     "output_type": "stream",
     "text": [
      "8 DEVICES detected: [cuda(id=0), cuda(id=1), cuda(id=2), cuda(id=3), cuda(id=4), cuda(id=5), cuda(id=6), cuda(id=7)]\n"
     ]
    }
   ],
   "source": [
    "#### setup environments (single-device or multiple-devices)\n",
    "\n",
    "NDEVICES = 1\n",
    "SHARDING = True #### you can use multiple devices\n",
    "if SHARDING:\n",
    "    NDEVICES = len(jax.devices())\n",
    "    print(\"{} DEVICES detected: {}\".format(NDEVICES, jax.devices()))\n",
    "\n",
    "rng_key = jax.random.PRNGKey(8888) #### set your random seed here\n",
    "np.random.seed(7777)"
   ]
  },
  {
   "cell_type": "code",
   "execution_count": 4,
   "metadata": {},
   "outputs": [],
   "source": [
    "#### constants\n",
    "constituent_types = ['', 'O3H2', 'N2H2', 'CarH1', 'N2H1', 'NamH0', 'Oco2H0', 'N3H3', 'N4H3', 'C1H0', 'N2H0', 'Npl3H0', 'NarH1', 'O3H1', 'C2H0', 'O3H0', 'N4H1', 'CcatH0', 'N4H2', 'CarH0', 'N3H2', 'NamH2', 'C3H1', 'Npl3H2', 'NamH1', 'C2H2', 'N3H1', 'C3H3', 'C1H1', 'C3H2', 'N1H0', 'N3H0', 'FH0', 'C2H1', 'C3H0', 'C3H4', 'NarH0', 'O2H0', 'Npl3H3', 'Npl3H1', 'O2H1']\n",
    "constituent_types.sort()\n",
    "max_num_atoms = 9\n",
    "num_experts = 2\n",
    "\n",
    "#### setup & load trained models\n",
    "cutoffs = [10.0, 15.0]\n",
    "noise_thresholds = [0.5]\n",
    "arg_dicts = {\n",
    "    \"num_atom_types\": len(constituent_types), \n",
    "    \"dim_atom_feature\": 128, \n",
    "    \"dim_edge_feature\": 128, \n",
    "    \"dim_atom_filter\": 128, \n",
    "    \"num_rbf_basis\": 128, \n",
    "    \"n_interactions\": 6, \n",
    "}\n",
    "nets = [NaiveGraphFieldNetwork(**arg_dicts, cutoff=c) for c in cutoffs]\n",
    "\n",
    "param_paths = [\"./params/naive_gfn_params/naive_gfn_track_1_jax.pkl\", \"./params/naive_gfn_params/naive_gfn_track_2_jax.pkl\"]\n",
    "params = []\n",
    "for path in param_paths:\n",
    "    with open(path, 'rb') as f: \n",
    "        params.append(pkl.load(f))\n",
    "if SHARDING:\n",
    "    ##### replicate params\n",
    "    global_sharding = PositionalSharding(jax.devices()).reshape(NDEVICES, 1)\n",
    "    params = jax.device_put(params, global_sharding.replicate())\n",
    "\n",
    "\n",
    "score_fns = [partial(net.apply, p) for net, p in zip(nets, params)]"
   ]
  },
  {
   "cell_type": "markdown",
   "metadata": {},
   "source": [
    "### Unconditional Generation"
   ]
  },
  {
   "cell_type": "code",
   "execution_count": 5,
   "metadata": {},
   "outputs": [],
   "source": [
    "NSAMPLE_PER_DEVICE = 128\n",
    "NSAMPLES = NSAMPLE_PER_DEVICE * NDEVICES\n",
    "NATOMS = max_num_atoms\n",
    "\n",
    "#### jit and vmap functions (mixture of experts)\n",
    "def score_forward_fn(x, atom_type, sigma):\n",
    "    cond_list = [sigma < noise_thresholds[0],] + \\\n",
    "                [jnp.logical_and(sigma >= noise_thresholds[i], sigma < noise_thresholds[i+1]) for i in range(0, len(noise_thresholds) - 1)] + \\\n",
    "                [sigma >= noise_thresholds[-1],]\n",
    "    value_list = [fn(x, atom_type) for fn in score_fns]\n",
    "    \n",
    "    return jnp.sum(jnp.array(cond_list, dtype=jnp.float32)[..., None, None] * \\\n",
    "                    jnp.array(value_list, jnp.float32), axis=0)\n",
    "    \n",
    "#### Langevin dynamics iteration\n",
    "def Langevin_one_step_fn(x, atom_type, rng_key, sigma, alpha):\n",
    "    dx = score_forward_fn(x, atom_type, sigma)\n",
    "    rng_key, normal_key = jax.random.split(rng_key)\n",
    "    z = jax.random.normal(normal_key, shape=x.shape, dtype=jnp.float32)\n",
    "    x = x + jnp.sqrt(2 * alpha) * z - alpha * dx / sigma\n",
    "    return x, rng_key\n",
    "\n",
    "Langevin_one_step_fn_jvj = jax.jit(jax.vmap(jax.jit(Langevin_one_step_fn),\n",
    "                                            in_axes=(0,0,0,None,None)))"
   ]
  },
  {
   "cell_type": "markdown",
   "metadata": {},
   "source": [
    "#### Consituents sampling s~p(s)"
   ]
  },
  {
   "cell_type": "markdown",
   "metadata": {},
   "source": [
    "##### You can sample atom constituents from datasets"
   ]
  },
  {
   "cell_type": "code",
   "execution_count": 6,
   "metadata": {},
   "outputs": [
    {
     "name": "stdout",
     "output_type": "stream",
     "text": [
      "Example constituents: \n",
      "\tC3H3 C1H0 C1H0 C3H2 C3H1 C3H2 C3H1 O3H0 C3H1\n"
     ]
    }
   ],
   "source": [
    "constituents = np.load(\"./dataset/qm9_constituents.npy\")\n",
    "index = np.random.choice(np.arange(constituents.shape[0]), NSAMPLES)\n",
    "constituents = constituents[index]\n",
    "\n",
    "print(\"Example constituents: \")\n",
    "print(\"\\t{}\".format(\" \".join([constituent_types[i] for i in constituents[0] if i > 0])))"
   ]
  },
  {
   "cell_type": "markdown",
   "metadata": {},
   "source": [
    "##### You can sample atom constituents using an autoregressive model"
   ]
  },
  {
   "cell_type": "code",
   "execution_count": 7,
   "metadata": {},
   "outputs": [
    {
     "name": "stderr",
     "output_type": "stream",
     "text": [
      "100%|████████████████████████████████████████████████████████████████████████████████████████████████████████████████████████████████████████████████████████████████████████████████| 9/9 [00:08<00:00,  1.10it/s]"
     ]
    },
    {
     "name": "stdout",
     "output_type": "stream",
     "text": [
      "Example constituents: \n",
      "\tN3H0 C3H2 C3H0 C2H1 C3H2 C3H2 C3H2 O3H0 O2H0\n"
     ]
    },
    {
     "name": "stderr",
     "output_type": "stream",
     "text": [
      "\n"
     ]
    }
   ],
   "source": [
    "from snail.snail import SNAIL\n",
    "\n",
    "# model \n",
    "constituent_model = SNAIL(len(constituent_types), n_res_layers=5, n_attn_layers=12)\n",
    "with open(\"./params/snail_params/snail_jax.pkl\", 'rb') as f:\n",
    "    constituent_model_params = pkl.load(f)\n",
    "sample_fn = jax.jit(jax.vmap(jax.jit(partial(constituent_model.apply, \n",
    "                                             constituent_model_params))))\n",
    "\n",
    "# sampling\n",
    "x = jnp.zeros((NSAMPLES, max_num_atoms), dtype=jnp.float32)\n",
    "out = jnp.zeros((NSAMPLES, max_num_atoms), dtype=jnp.int32)\n",
    "if SHARDING:\n",
    "    global_sharding = PositionalSharding(jax.devices()).reshape(NDEVICES, 1)\n",
    "    x = jax.device_put(x, global_sharding.replicate())\n",
    "    out = jax.device_put(out, global_sharding.replicate())\n",
    "\n",
    "for atom in tqdm(range(max_num_atoms)):\n",
    "    logits = sample_fn(x)\n",
    "    sample_key, rng_key = jax.random.split(rng_key)\n",
    "    sampled_c = jax.random.categorical(sample_key, logits[:, atom, :], axis=-1)\n",
    "\n",
    "    out = out.at[:, atom].set(sampled_c)\n",
    "    x = x.at[:, atom].set(sampled_c.astype(jnp.float32) / (len(constituent_types) - 1) * 2 - 1)\n",
    "    \n",
    "constituents = np.array(out)\n",
    "print(\"Example constituents: \")\n",
    "print(\"\\t{}\".format(\" \".join([constituent_types[i] for i in constituents[0] if i > 0])))"
   ]
  },
  {
   "cell_type": "code",
   "execution_count": 8,
   "metadata": {},
   "outputs": [],
   "source": [
    "#### or... you can design yourself!\n",
    "#### remember setting constituents of padding atoms to 0"
   ]
  },
  {
   "cell_type": "markdown",
   "metadata": {},
   "source": [
    "#### Structures sampling x~p(x|s)"
   ]
  },
  {
   "cell_type": "code",
   "execution_count": 9,
   "metadata": {},
   "outputs": [],
   "source": [
    "n_steps, n_eq_steps = 1000, 10 \n",
    "sigma_min, sigma_max = 0.01, 5.0\n",
    "noise_scales = \\\n",
    "    np.exp(np.linspace(np.log(sigma_min), np.log(sigma_max), n_steps))\n",
    "\n",
    "def Langevin_inference(x_t, atom_type, rng_keys, save_traj=False):\n",
    "    epsilon = 2e-4\n",
    "    trajectory = []\n",
    "    for t in tqdm(range(n_steps)):\n",
    "        sigma_t = noise_scales[n_steps-t-1]\n",
    "        alpha = epsilon * sigma_t * sigma_t / (sigma_min * sigma_min)\n",
    "        for k in range(n_eq_steps):\n",
    "            x_t, rng_keys = Langevin_one_step_fn_jvj(x_t, atom_type, \n",
    "                                                     rng_keys, sigma_t, alpha)\n",
    "            if save_traj: trajectory.append(x_t)\n",
    "            \n",
    "    dx = jax.vmap(score_forward_fn, in_axes=(0, 0, None))(x_t, atom_type, sigma_min)\n",
    "    x_t = x_t - sigma_min * dx\n",
    "    if save_traj: trajectory.append(x_t)\n",
    "\n",
    "    return x_t, trajectory, rng_keys"
   ]
  },
  {
   "cell_type": "code",
   "execution_count": 10,
   "metadata": {},
   "outputs": [],
   "source": [
    "### prepare rng keys for sampling\n",
    "split_rng_keys = jax.random.split(rng_key, NSAMPLES +1)\n",
    "rng_keys = split_rng_keys[:NSAMPLES]\n",
    "rng_key = split_rng_keys[-1]\n",
    "rng_key, normal_key = jax.random.split(rng_key)\n",
    "x_t = jax.random.normal(normal_key, shape=(NSAMPLES,9,3), dtype=jnp.float32)\n",
    "\n",
    "if SHARDING: \n",
    "    global_sharding = PositionalSharding(jax.devices()).reshape(-1, 1)\n",
    "    constituents = jax.device_put(constituents, global_sharding.replicate())\n",
    "    rng_keys = jax.device_put(rng_keys, global_sharding.replicate())\n",
    "    x_t = jax.device_put(x_t, global_sharding.replicate())"
   ]
  },
  {
   "cell_type": "code",
   "execution_count": 11,
   "metadata": {},
   "outputs": [
    {
     "name": "stderr",
     "output_type": "stream",
     "text": [
      "100%|██████████████████████████████████████████████████████████████████████████████████████████████████████████████████████████████████████████████████████████████████████████| 1000/1000 [01:43<00:00,  9.70it/s]\n"
     ]
    }
   ],
   "source": [
    "structures, trajectories, rng_keys = Langevin_inference(x_t, constituents, rng_keys)\n",
    "structures, trajectories = jax.tree_map(np.array, (structures, trajectories))\n",
    "\n",
    "#### save results \n",
    "with open(f'results/results_0.pkl', 'wb') as f: \n",
    "    pkl.dump(jax.tree_map(np.array, \n",
    "                          {'constituents': constituents,\n",
    "                           'trajectories': trajectories, 'structures': structures}), f)"
   ]
  },
  {
   "cell_type": "markdown",
   "metadata": {},
   "source": [
    "#### View structures | trajectories"
   ]
  },
  {
   "cell_type": "code",
   "execution_count": 12,
   "metadata": {},
   "outputs": [
    {
     "data": {
      "application/vnd.jupyter.widget-view+json": {
       "model_id": "838caa8da11f468bbf0cf2a49e6bee5e",
       "version_major": 2,
       "version_minor": 0
      },
      "text/plain": []
     },
     "metadata": {},
     "output_type": "display_data"
    },
    {
     "name": "stdout",
     "output_type": "stream",
     "text": [
      "This is a molecule with 9 atoms, rg = 1.92 ang\n",
      "WARNING: bonds provided by NGLViewer may be problematic\n"
     ]
    },
    {
     "data": {
      "application/vnd.jupyter.widget-view+json": {
       "model_id": "bdeca27aa12847dd885679e7eeed4c8c",
       "version_major": 2,
       "version_minor": 0
      },
      "text/plain": [
       "NGLWidget()"
      ]
     },
     "metadata": {},
     "output_type": "display_data"
    }
   ],
   "source": [
    "#### view trajectories | structures\n",
    "import MDAnalysis as mda \n",
    "import nglview as nv \n",
    "\n",
    "#### load your results \n",
    "with open(f'results/results_0.pkl', 'rb') as f: \n",
    "    results = pkl.load(f)\n",
    "    constituents = results['constituents']\n",
    "    trajectories = results['trajectories']\n",
    "    structures = results['structures']\n",
    "\n",
    "mol_id = 1\n",
    "constituent = constituents[mol_id]\n",
    "n_atoms = np.sum(constituent > 0)\n",
    "constituent = constituent[:n_atoms]\n",
    "trajectory = np.array(trajectories)[:, mol_id, :n_atoms, :]\n",
    "trajectory = trajectory - np.mean(trajectory, axis=1, keepdims=True)\n",
    "structure = np.array(structures)[mol_id, :n_atoms, :]\n",
    "structure = structure - np.mean(structure, axis=0, keepdims=True)\n",
    "rg = np.sqrt(np.sum(structure ** 2) / n_atoms)\n",
    "print(\"This is a molecule with {} atoms, rg = {:.2f} ang\".format(n_atoms, rg))\n",
    "print(\"WARNING: bonds provided by NGLViewer may be problematic\")\n",
    "\n",
    "mol = mda.Universe.empty(n_atoms=n_atoms)\n",
    "mol.add_TopologyAttr('names', [constituent_types[i] for i in constituent])\n",
    "# mol.load_new(trajectory - np.mean(trajectory, axis=1, keepdims=True)) ### view trajectories \n",
    "mol.load_new(structure) ### view structures\n",
    "view = nv.show_mdanalysis(mol)\n",
    "view"
   ]
  },
  {
   "cell_type": "markdown",
   "metadata": {},
   "source": [
    "#### Graph assembling"
   ]
  },
  {
   "cell_type": "code",
   "execution_count": 13,
   "metadata": {},
   "outputs": [
    {
     "name": "stderr",
     "output_type": "stream",
     "text": [
      "1024it [00:08, 122.21it/s]"
     ]
    },
    {
     "name": "stdout",
     "output_type": "stream",
     "text": [
      ".mol2 files are saved in results/mol2\n",
      "smiles are saved in results/result.smi\n",
      "valid: 0.99, unique and valid: 0.98\n"
     ]
    },
    {
     "name": "stderr",
     "output_type": "stream",
     "text": [
      "\n"
     ]
    }
   ],
   "source": [
    "import Xponge\n",
    "from graph_assembler.graph_assembler import assemble_mol_graph\n",
    "\n",
    "element_table = {\n",
    "    'C': 6, 'N': 7, 'O': 8, 'F': 9\n",
    "}\n",
    "\n",
    "success_or_not = []\n",
    "smileses = []\n",
    "for i, (constituent, structure) in tqdm(enumerate(zip(constituents, structures))):\n",
    "    constituent_str = [constituent_types[c] for c in constituent if c > 0]\n",
    "    atomic_numbers = [element_table[x[0]] for x in constituent_str]\n",
    "    hydrogen_numbers = [int(x[-1]) for x in constituent_str]\n",
    "    \n",
    "    success, Xponge_mol, smiles = assemble_mol_graph(atomic_numbers, hydrogen_numbers, structure)\n",
    "    success_or_not.append(success) \n",
    "    smileses.append(\"\" if not success else smiles)\n",
    "    \n",
    "    #### export to mol2\n",
    "    if success:\n",
    "        ##### delete Hs (Hs are added to help recogonizing topology, their coordinates are fake)\n",
    "        atoms = Xponge_mol.atoms[::1]\n",
    "        hydrogen_atom_idx = np.sort([idx for idx, atom in enumerate(atoms) if 'H' in atom])[::-1]\n",
    "        for atom_idx in hydrogen_atom_idx: \n",
    "            Xponge_mol.delete_atom(atom_idx)\n",
    "        Xponge_mol.save_as_mol2('results/mol2/{}.mol2'.format(i), atomtype=None)\n",
    "        \n",
    "with open('results/result.smi', 'w') as f:\n",
    "    for smiles in smileses:\n",
    "        f.write(\"{}\\n\".format(smiles))\n",
    "        \n",
    "print(\".mol2 files are saved in results/mol2\")\n",
    "print(\"smiles are saved in results/result.smi\")\n",
    "print(\"valid: {:.2f}, unique and valid: {:.2f}\".format(np.sum(success_or_not) / NSAMPLES, \n",
    "                                                       len(np.unique(smileses)) / NSAMPLES))"
   ]
  },
  {
   "cell_type": "code",
   "execution_count": null,
   "metadata": {},
   "outputs": [],
   "source": []
  }
 ],
 "metadata": {
  "kernelspec": {
   "display_name": "Python 3 (ipykernel)",
   "language": "python",
   "name": "python3"
  },
  "language_info": {
   "codemirror_mode": {
    "name": "ipython",
    "version": 3
   },
   "file_extension": ".py",
   "mimetype": "text/x-python",
   "name": "python",
   "nbconvert_exporter": "python",
   "pygments_lexer": "ipython3",
   "version": "3.10.14"
  }
 },
 "nbformat": 4,
 "nbformat_minor": 4
}
