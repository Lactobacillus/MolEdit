{
 "cells": [
  {
   "cell_type": "code",
   "execution_count": null,
   "id": "f365c6dc",
   "metadata": {},
   "outputs": [],
   "source": [
    "import os\n",
    "import sys\n",
    "import pickle as pkl\n",
    "from functools import partial\n",
    "from tqdm import tqdm\n",
    "\n",
    "import Xponge\n",
    "from tqdm import tqdm\n",
    "import numpy as np\n",
    "\n",
    "import Xponge.forcefield.amber.gaff as gaff\n",
    "from Xponge.helper import rdkit as xponge_rdkit_helper\n",
    "from Xponge import Residue,Molecule\n",
    "\n",
    "from rdkit import Chem"
   ]
  },
  {
   "cell_type": "markdown",
   "id": "d071da71",
   "metadata": {},
   "source": [
    "## Build Force Field"
   ]
  },
  {
   "cell_type": "code",
   "execution_count": null,
   "id": "0e40d16d",
   "metadata": {},
   "outputs": [],
   "source": [
    "### input a mol2 file\n",
    "mol2_file = '/lustre/grp/gyqlab/linxh/TopologyMapper4BGMTest_20250512/out_mol2/EDM/0.mol2'"
   ]
  },
  {
   "cell_type": "code",
   "execution_count": null,
   "id": "250d7048",
   "metadata": {},
   "outputs": [],
   "source": [
    "LIG_NAME = 'LIG'\n",
    "mol = Xponge.get_assignment_from_mol2(mol2_file)\n",
    "rdmol = xponge_rdkit_helper.assign_to_rdmol(mol)\n",
    "\n",
    "### remove Hs && re-add Hs\n",
    "mol = xponge_rdkit_helper.rdmol_to_assign(\n",
    "    Chem.AddHs(Chem.RemoveAllHs(rdmol), addCoords=True)\n",
    ")\n",
    "\n",
    "### build GAFF\n",
    "mol.determine_atom_type('gaff')\n",
    "mol.calculate_charge('tpacm4')\n",
    "res_type = mol.to_residuetype(f'{LIG_NAME}')\n",
    "gaff.parmchk2_gaff(res_type, f'{LIG_NAME}')\n",
    "os.makedirs(\"topo\", exist_ok=True)\n",
    "residue = Residue(res_type, name=res_type.name)\n",
    "for atom in res_type.atoms:\n",
    "    residue.Add_Atom(atom)\n",
    "mol = Molecule(name=residue.name)\n",
    "mol.Add_Residue(residue)\n",
    "mol.box_length = [999, 999, 999]\n",
    "Xponge.save_sponge_input(mol, os.path.join(\"topo\", LIG_NAME))\n",
    "os.remove(f'{LIG_NAME}')"
   ]
  },
  {
   "cell_type": "markdown",
   "id": "508d79ac",
   "metadata": {},
   "source": [
    "## Evaluate Energy/Forces"
   ]
  },
  {
   "cell_type": "markdown",
   "id": "251a8105",
   "metadata": {},
   "source": [
    "### With SPONGE"
   ]
  },
  {
   "cell_type": "markdown",
   "id": "2af227f3",
   "metadata": {},
   "source": [
    "Energy/Forces can be evaluated with Molecular Dynamics Simulation Package SPONGE.\n",
    "\n",
    "SPONGE is available at [here](https://spongemm.cn/zh/home)."
   ]
  },
  {
   "cell_type": "code",
   "execution_count": null,
   "id": "60cf75ba",
   "metadata": {},
   "outputs": [],
   "source": [
    "SPONGE_EXEC = '$YOUR_SPONGE_PATH'\n",
    "\n",
    "os.system(f'{SPONGE_EXEC} -mode minimization -pbc False -default_in_file_prefix topo/{LIG_NAME} -cutoff 100 -dt 0.0 -step_limit 1 -write_information_interval 1 -mdinfo topo/mdinfo.txt -frc topo/frc.dat -mdout topo/mdout.txt -crd topo/mdcrd.dat -box topo/mdbox.txt -rst topo/restart')"
   ]
  },
  {
   "cell_type": "code",
   "execution_count": null,
   "id": "9117e36b",
   "metadata": {},
   "outputs": [],
   "source": [
    "### load force \n",
    "force = np.fromfile('topo/frc.dat', dtype=np.float32).reshape(-1,3)"
   ]
  },
  {
   "cell_type": "markdown",
   "id": "38bb0d21",
   "metadata": {},
   "source": [
    "### With JAX"
   ]
  },
  {
   "cell_type": "markdown",
   "id": "6a8aba4f",
   "metadata": {},
   "source": [
    "Here we provide an alternative way to evaluate energy/forces with a JAX-function which can be jitted & vmapped.\n"
   ]
  },
  {
   "cell_type": "code",
   "execution_count": null,
   "id": "6da40dfb",
   "metadata": {},
   "outputs": [],
   "source": [
    "### convert SPONGE-format topology files into a JAX-readable dictionary\n",
    "from jax_gaff import convert_sponge_input_to_dict\n",
    "\n",
    "ff_params = convert_sponge_input_to_dict('topo/LIG')"
   ]
  },
  {
   "cell_type": "code",
   "execution_count": null,
   "id": "88134d95",
   "metadata": {},
   "outputs": [],
   "source": [
    "import jax\n",
    "import jax.numpy as jnp\n",
    "from jax_gaff import gaff_ene_frc, NMAX_ATOMS, FF_TARGET_SHAPE, parse_num_file\n",
    "\n",
    "jit_gaff_ene_frc = gaff_ene_frc ## you can jit/vmap/pmap this function using jax-transformations"
   ]
  },
  {
   "cell_type": "code",
   "execution_count": null,
   "id": "b4aa5005",
   "metadata": {},
   "outputs": [],
   "source": [
    "### Pad input coordinates and force-field parameters\n",
    "# (You can skip this step when evaluating a single molecule.)\n",
    "def _pad_fn(ff_params):\n",
    "    def _pad_length(arr_shape, target_shape):\n",
    "        return [(0, tshape - ashape) for ashape, tshape in zip(arr_shape, target_shape)]\n",
    "    return {\n",
    "        k: np.pad(v, _pad_length(v.shape, FF_TARGET_SHAPE[k])) for k, v in ff_params.items()\n",
    "    }\n",
    "\n",
    "ff_param_dict_pad = _pad_fn(ff_params)\n",
    "crds = np.array(parse_num_file(f'topo/{LIG_NAME}_coordinate.txt')[1:-1])\n",
    "n_atoms = crds.shape[0]\n",
    "crds = np.pad(crds, ((0, NMAX_ATOMS - n_atoms), (0, 0)))"
   ]
  },
  {
   "cell_type": "code",
   "execution_count": null,
   "id": "ee93b596",
   "metadata": {},
   "outputs": [],
   "source": [
    "### Converting inputs to jax-arrays\n",
    "\n",
    "ff_inputs = tuple([jnp.array(ff_param_dict_pad[key][None, ...]) for key in [\n",
    "                    'C', 'E', 'S', 'Ex', 'Ba', 'Bb', 'Bk', 'Br', 'Aa', 'Ab', 'Ac', 'Ak', 'At', 'Da', 'Db', 'Dc', 'Dd', 'Dn', 'Dk', 'Dp', 'Na', 'Nb', 'Nlf', 'Nqf'\n",
    "                ]])\n",
    "\n",
    "crds_jax = jnp.array(crds[None, ...])\n",
    "ene, frc = jit_gaff_ene_frc(crds_jax, ff_inputs)"
   ]
  },
  {
   "cell_type": "code",
   "execution_count": null,
   "id": "8d4cccf3",
   "metadata": {},
   "outputs": [],
   "source": []
  }
 ],
 "metadata": {
  "kernelspec": {
   "display_name": "Python 3",
   "language": "python",
   "name": "python3"
  },
  "language_info": {
   "codemirror_mode": {
    "name": "ipython",
    "version": 3
   },
   "file_extension": ".py",
   "mimetype": "text/x-python",
   "name": "python",
   "nbconvert_exporter": "python",
   "pygments_lexer": "ipython3",
   "version": "3.10.14"
  }
 },
 "nbformat": 4,
 "nbformat_minor": 5
}
